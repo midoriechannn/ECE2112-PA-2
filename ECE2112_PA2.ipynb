{
 "cells": [
  {
   "cell_type": "markdown",
   "id": "07bede23-df4b-4512-8ddb-9c458806f4a4",
   "metadata": {},
   "source": [
    "# NORMALIZATION PROBLEM"
   ]
  },
  {
   "cell_type": "code",
   "execution_count": null,
   "id": "24da7f85-3f6c-44b7-ad89-8dce218ae2be",
   "metadata": {},
   "outputs": [],
   "source": [
    "#Importing the numpy library \n",
    "import numpy as np "
   ]
  },
  {
   "cell_type": "code",
   "execution_count": 4,
   "id": "d60c676c-94de-4514-b45e-79352606f383",
   "metadata": {},
   "outputs": [
    {
     "name": "stdout",
     "output_type": "stream",
     "text": [
      "5x5 array\n",
      " [[0.15390611 0.01348515 0.98212324 0.6403481  0.22513149]\n",
      " [0.86817222 0.89749795 0.55835643 0.46107926 0.95445657]\n",
      " [0.81684804 0.97818223 0.80373009 0.07347218 0.11645759]\n",
      " [0.58532931 0.53430071 0.88711406 0.28953762 0.59605845]\n",
      " [0.18981828 0.31424207 0.17902653 0.03367446 0.78501509]]\n",
      "Normalized array\n",
      " [[-1.11128717 -1.54047577  1.42011103  0.37549489 -0.89359087]\n",
      " [ 1.07182626  1.16145868  0.12489207 -0.17243005  1.33554941]\n",
      " [ 0.91495684  1.40806554  0.87486259 -1.35712886 -1.22574643]\n",
      " [ 0.20733312  0.05136713  1.12972089 -0.69673721  0.24012611]\n",
      " [-1.00152366 -0.6212295  -1.03450804 -1.4787683   0.81766127]]\n"
     ]
    }
   ],
   "source": [
    "#Creates a 5x5 array containing a random values\n",
    "X = np.random.random((5,5)) \n",
    "\n",
    "#Prints the 5x5 array\n",
    "print (\"5x5 array\\n\", X)   \n",
    "\n",
    "#Calculates and stores the normalized array\n",
    "Z= (X - X.mean ())/X.std() \n",
    "\n",
    "#Prints the normalized array\n",
    "print (\"Normalized array\\n\", Z) \n",
    "\n",
    "#Saves the arrays on disk\n",
    "np.save('X_normalized', Z)"
   ]
  },
  {
   "cell_type": "markdown",
   "id": "e4721b87-1391-482a-ad33-14b7b201ae4f",
   "metadata": {},
   "source": [
    "# DIVISIBLE BY 3"
   ]
  },
  {
   "cell_type": "code",
   "execution_count": 9,
   "id": "ee36788e-4a40-42be-be2e-3fc1967aaa73",
   "metadata": {},
   "outputs": [
    {
     "name": "stdout",
     "output_type": "stream",
     "text": [
      "The Squares of the First 100 Positive Integers:\n",
      " [[    1     4     9    16    25    36    49    64    81   100]\n",
      " [  121   144   169   196   225   256   289   324   361   400]\n",
      " [  441   484   529   576   625   676   729   784   841   900]\n",
      " [  961  1024  1089  1156  1225  1296  1369  1444  1521  1600]\n",
      " [ 1681  1764  1849  1936  2025  2116  2209  2304  2401  2500]\n",
      " [ 2601  2704  2809  2916  3025  3136  3249  3364  3481  3600]\n",
      " [ 3721  3844  3969  4096  4225  4356  4489  4624  4761  4900]\n",
      " [ 5041  5184  5329  5476  5625  5776  5929  6084  6241  6400]\n",
      " [ 6561  6724  6889  7056  7225  7396  7569  7744  7921  8100]\n",
      " [ 8281  8464  8649  8836  9025  9216  9409  9604  9801 10000]]\n",
      "Numbers Divisible by 3:\n",
      " [   9   36   81  144  225  324  441  576  729  900 1089 1296 1521 1764\n",
      " 2025 2304 2601 2916 3249 3600 3969 4356 4761 5184 5625 6084 6561 7056\n",
      " 7569 8100 8649 9216 9801]\n"
     ]
    }
   ],
   "source": [
    "import numpy as np \n",
    "\n",
    "#Creates a 1d aaray containing numbers 1-100 then it takes the square of each number \n",
    "A = (np.arange(1,101)**2) \n",
    "\n",
    "#Reshaping the array into a 10x10 2d matrix \n",
    "A = A.reshape(10,10) \n",
    "\n",
    "#Prints the 10x10 array \n",
    "print (\"The Squares of the First 100 Positive Integers:\\n\" , A)  \n",
    "\n",
    "#Subsets array of A for all numbers divisible by 3 then stores it to 'D' \n",
    "D = A[A%3==0] \n",
    "\n",
    "#Prints the subset \n",
    "print(\"Numbers Divisible by 3:\\n\", D) \n",
    "\n",
    "#Saves the arrays on disk \n",
    "np.save ('div_by_3', D) \n"
   ]
  },
  {
   "cell_type": "code",
   "execution_count": null,
   "id": "3db8ef06-c98b-4538-9b71-21bdcb2cf1aa",
   "metadata": {},
   "outputs": [],
   "source": []
  }
 ],
 "metadata": {
  "kernelspec": {
   "display_name": "Python 3 (ipykernel)",
   "language": "python",
   "name": "python3"
  },
  "language_info": {
   "codemirror_mode": {
    "name": "ipython",
    "version": 3
   },
   "file_extension": ".py",
   "mimetype": "text/x-python",
   "name": "python",
   "nbconvert_exporter": "python",
   "pygments_lexer": "ipython3",
   "version": "3.13.5"
  }
 },
 "nbformat": 4,
 "nbformat_minor": 5
}
